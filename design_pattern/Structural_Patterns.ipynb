{
 "cells": [
  {
   "cell_type": "markdown",
   "metadata": {},
   "source": [
    "## 1. Adapter\n",
    "Also known as: Wrapper\n",
    "\n",
    "Adapter is a structural design pattern that allows objects with incompatible interfaces to collaborate."
   ]
  },
  {
   "cell_type": "markdown",
   "metadata": {},
   "source": [
    "__Code Example: Adapter for Payment Gateway Integration__\n",
    "\n",
    "Let’s say you are building an online shopping application. The application supports multiple payment methods, but one of them uses an old payment gateway that has an incompatible interface. We will use the Adapter Pattern to make it compatible with the rest of the system."
   ]
  },
  {
   "cell_type": "code",
   "execution_count": 3,
   "metadata": {},
   "outputs": [
    {
     "name": "stdout",
     "output_type": "stream",
     "text": [
      "Using Adapter for Old Payment Gateway:\n",
      "Processing payment of $150.75 using old payment gateway.\n",
      "\n",
      "Using Modern Payment Gateway:\n",
      "Processing payment of $200.5 using modern payment gateway.\n"
     ]
    }
   ],
   "source": [
    "from abc import ABC, abstractmethod\n",
    "\n",
    "# The Target interface (What the client expects)\n",
    "class PaymentProcessor(ABC):\n",
    "    @abstractmethod\n",
    "    def process_payment(self, amount: float):\n",
    "        pass\n",
    "\n",
    "\n",
    "# The Adaptee (Old payment gateway that needs to be adapted)\n",
    "class OldPaymentGateway:\n",
    "    def old_process_payment(self, transaction_amount: float):\n",
    "        print(f\"Processing payment of ${transaction_amount} using old payment gateway.\")\n",
    "\n",
    "\n",
    "# The Adapter class\n",
    "class OldPaymentGatewayAdapter(PaymentProcessor):\n",
    "    def __init__(self, old_gateway: OldPaymentGateway):\n",
    "        self.old_gateway = old_gateway\n",
    "\n",
    "    def process_payment(self, amount: float):\n",
    "        # Adapting the interface of the old gateway to the new expected interface\n",
    "        self.old_gateway.old_process_payment(amount)\n",
    "\n",
    "\n",
    "# Client Code\n",
    "def client_code(payment_processor: PaymentProcessor, amount: float):\n",
    "    payment_processor.process_payment(amount)\n",
    "\n",
    "\n",
    "if __name__ == \"__main__\":\n",
    "    # Old payment gateway object\n",
    "    old_gateway = OldPaymentGateway()\n",
    "\n",
    "    # Using the adapter to make it compatible with the client code\n",
    "    adapted_payment_processor = OldPaymentGatewayAdapter(old_gateway)\n",
    "\n",
    "    # Client code can now process payment through the adapter\n",
    "    print(\"Using Adapter for Old Payment Gateway:\")\n",
    "    client_code(adapted_payment_processor, 150.75)\n",
    "\n",
    "    # If we had a modern payment gateway, we could use it directly\n",
    "    class ModernPaymentGateway(PaymentProcessor):\n",
    "        def process_payment(self, amount: float):\n",
    "            print(f\"Processing payment of ${amount} using modern payment gateway.\")\n",
    "\n",
    "    modern_gateway = ModernPaymentGateway()\n",
    "    print(\"\\nUsing Modern Payment Gateway:\")\n",
    "    client_code(modern_gateway, 200.50)\n"
   ]
  },
  {
   "cell_type": "markdown",
   "metadata": {},
   "source": [
    "__Explanation:__\n",
    "1. __Target Interface__ (PaymentProcessor):\n",
    "\n",
    "    * This is the interface that the client code expects. The process_payment method is defined here, and the client code will interact with this interface.\n",
    "\n",
    "2. __Adaptee__ (OldPaymentGateway):\n",
    "\n",
    "    * This is the class that has an incompatible method, old_process_payment, which the client cannot use directly.\n",
    "\n",
    "3. __Adapter__ (OldPaymentGatewayAdapter):\n",
    "\n",
    "    * The adapter class implements the target interface (PaymentProcessor) and converts the method call to the appropriate method in the adaptee (OldPaymentGateway).\n",
    "    * It holds a reference to the OldPaymentGateway instance and calls its old_process_payment method when process_payment is called by the client.\n",
    "\n",
    "4. __Client Code__:\n",
    "\n",
    "    * The client_code function uses the PaymentProcessor interface to process payments, unaware of whether the payment processor is modern or old. The adapter ensures that the old payment gateway can be used seamlessly with the client code."
   ]
  },
  {
   "cell_type": "markdown",
   "metadata": {},
   "source": []
  },
  {
   "cell_type": "markdown",
   "metadata": {},
   "source": []
  }
 ],
 "metadata": {
  "kernelspec": {
   "display_name": "genai",
   "language": "python",
   "name": "python3"
  },
  "language_info": {
   "codemirror_mode": {
    "name": "ipython",
    "version": 3
   },
   "file_extension": ".py",
   "mimetype": "text/x-python",
   "name": "python",
   "nbconvert_exporter": "python",
   "pygments_lexer": "ipython3",
   "version": "3.12.2"
  }
 },
 "nbformat": 4,
 "nbformat_minor": 2
}
