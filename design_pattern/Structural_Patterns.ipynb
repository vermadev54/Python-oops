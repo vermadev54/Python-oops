{
 "cells": [
  {
   "cell_type": "markdown",
   "metadata": {},
   "source": [
    "## 1. Adapter\n",
    "Also known as: Wrapper\n",
    "\n",
    "Adapter is a structural design pattern that allows objects with incompatible interfaces to collaborate."
   ]
  },
  {
   "cell_type": "markdown",
   "metadata": {},
   "source": [
    "__Code Example: Adapter for Payment Gateway Integration__\n",
    "\n",
    "Let’s say you are building an online shopping application. The application supports multiple payment methods, but one of them uses an old payment gateway that has an incompatible interface. We will use the Adapter Pattern to make it compatible with the rest of the system."
   ]
  },
  {
   "cell_type": "code",
   "execution_count": 3,
   "metadata": {},
   "outputs": [
    {
     "name": "stdout",
     "output_type": "stream",
     "text": [
      "Using Adapter for Old Payment Gateway:\n",
      "Processing payment of $150.75 using old payment gateway.\n",
      "\n",
      "Using Modern Payment Gateway:\n",
      "Processing payment of $200.5 using modern payment gateway.\n"
     ]
    }
   ],
   "source": [
    "from abc import ABC, abstractmethod\n",
    "\n",
    "# The Target interface (What the client expects)\n",
    "class PaymentProcessor(ABC):\n",
    "    @abstractmethod\n",
    "    def process_payment(self, amount: float):\n",
    "        pass\n",
    "\n",
    "\n",
    "# The Adaptee (Old payment gateway that needs to be adapted)\n",
    "class OldPaymentGateway:\n",
    "    def old_process_payment(self, transaction_amount: float):\n",
    "        print(f\"Processing payment of ${transaction_amount} using old payment gateway.\")\n",
    "\n",
    "\n",
    "# The Adapter class\n",
    "class OldPaymentGatewayAdapter(PaymentProcessor):\n",
    "    def __init__(self, old_gateway: OldPaymentGateway):\n",
    "        self.old_gateway = old_gateway\n",
    "\n",
    "    def process_payment(self, amount: float):\n",
    "        # Adapting the interface of the old gateway to the new expected interface\n",
    "        self.old_gateway.old_process_payment(amount)\n",
    "\n",
    "\n",
    "# Client Code\n",
    "def client_code(payment_processor: PaymentProcessor, amount: float):\n",
    "    payment_processor.process_payment(amount)\n",
    "\n",
    "\n",
    "if __name__ == \"__main__\":\n",
    "    # Old payment gateway object\n",
    "    old_gateway = OldPaymentGateway()\n",
    "\n",
    "    # Using the adapter to make it compatible with the client code\n",
    "    adapted_payment_processor = OldPaymentGatewayAdapter(old_gateway)\n",
    "\n",
    "    # Client code can now process payment through the adapter\n",
    "    print(\"Using Adapter for Old Payment Gateway:\")\n",
    "    client_code(adapted_payment_processor, 150.75)\n",
    "\n",
    "    # If we had a modern payment gateway, we could use it directly\n",
    "    class ModernPaymentGateway(PaymentProcessor):\n",
    "        def process_payment(self, amount: float):\n",
    "            print(f\"Processing payment of ${amount} using modern payment gateway.\")\n",
    "\n",
    "    modern_gateway = ModernPaymentGateway()\n",
    "    print(\"\\nUsing Modern Payment Gateway:\")\n",
    "    client_code(modern_gateway, 200.50)\n"
   ]
  },
  {
   "cell_type": "markdown",
   "metadata": {},
   "source": [
    "__Explanation:__\n",
    "1. __Target Interface__ (PaymentProcessor):\n",
    "\n",
    "    * This is the interface that the client code expects. The process_payment method is defined here, and the client code will interact with this interface.\n",
    "\n",
    "2. __Adaptee__ (OldPaymentGateway):\n",
    "\n",
    "    * This is the class that has an incompatible method, old_process_payment, which the client cannot use directly.\n",
    "\n",
    "3. __Adapter__ (OldPaymentGatewayAdapter):\n",
    "\n",
    "    * The adapter class implements the target interface (PaymentProcessor) and converts the method call to the appropriate method in the adaptee (OldPaymentGateway).\n",
    "    * It holds a reference to the OldPaymentGateway instance and calls its old_process_payment method when process_payment is called by the client.\n",
    "\n",
    "4. __Client Code__:\n",
    "\n",
    "    * The client_code function uses the PaymentProcessor interface to process payments, unaware of whether the payment processor is modern or old. The adapter ensures that the old payment gateway can be used seamlessly with the client code."
   ]
  },
  {
   "cell_type": "markdown",
   "metadata": {},
   "source": [
    "## 2. Bridge Design Pattern\n",
    "The __Bridge Design Pattern__ is a structural design pattern that __decouples an abstraction from its implementation__, allowing them to vary independently. It is particularly useful when you want to avoid a permanent binding between an abstraction (e.g., a class hierarchy) and its implementation (e.g., platform-specific code)."
   ]
  },
  {
   "cell_type": "markdown",
   "metadata": {},
   "source": [
    "__Example: Remote Control and Devices__\n",
    "Let’s consider an example where we have different types of __remote controls__ (abstraction) and different types of __devices__ (implementation). The Bridge Pattern allows us to combine any remote control with any device without creating a separate class for each combination."
   ]
  },
  {
   "cell_type": "code",
   "execution_count": 1,
   "metadata": {},
   "outputs": [
    {
     "name": "stdout",
     "output_type": "stream",
     "text": [
      "TV channel set to 5\n",
      "Advanced Remote: Toggling power\n",
      "Radio is ON\n",
      "Radio frequency set to 101.5\n",
      "Advanced Remote: Muting device\n"
     ]
    }
   ],
   "source": [
    "# Implementation Interface\n",
    "class Device:\n",
    "    def turn_on(self):\n",
    "        pass\n",
    "\n",
    "    def turn_off(self):\n",
    "        pass\n",
    "\n",
    "    def set_channel(self, channel):\n",
    "        pass\n",
    "\n",
    "# Concrete Implementations\n",
    "class TV(Device):\n",
    "    def turn_on(self):\n",
    "        print(\"TV is ON\")\n",
    "\n",
    "    def turn_off(self):\n",
    "        print(\"TV is OFF\")\n",
    "\n",
    "    def set_channel(self, channel):\n",
    "        print(f\"TV channel set to {channel}\")\n",
    "\n",
    "class Radio(Device):\n",
    "    def turn_on(self):\n",
    "        print(\"Radio is ON\")\n",
    "\n",
    "    def turn_off(self):\n",
    "        print(\"Radio is OFF\")\n",
    "\n",
    "    def set_channel(self, channel):\n",
    "        print(f\"Radio frequency set to {channel}\")\n",
    "\n",
    "# Abstraction\n",
    "class RemoteControl:\n",
    "    def __init__(self, device: Device):\n",
    "        self.device = device\n",
    "\n",
    "    def toggle_power(self):\n",
    "        pass\n",
    "\n",
    "    def set_channel(self, channel):\n",
    "        self.device.set_channel(channel)\n",
    "\n",
    "# Refined Abstraction\n",
    "class AdvancedRemoteControl(RemoteControl):\n",
    "    def toggle_power(self):\n",
    "        print(\"Advanced Remote: Toggling power\")\n",
    "        self.device.turn_on() if self.device else self.device.turn_off()\n",
    "\n",
    "    def mute(self):\n",
    "        print(\"Advanced Remote: Muting device\")\n",
    "\n",
    "# Client Code\n",
    "if __name__ == \"__main__\":\n",
    "    tv = TV()\n",
    "    radio = Radio()\n",
    "\n",
    "    remote = RemoteControl(tv)\n",
    "    remote.set_channel(5)  # TV channel set to 5\n",
    "\n",
    "    advanced_remote = AdvancedRemoteControl(radio)\n",
    "    advanced_remote.toggle_power()  # Radio is ON\n",
    "    advanced_remote.set_channel(101.5)  # Radio frequency set to 101.5\n",
    "    advanced_remote.mute()  # Advanced Remote: Muting device"
   ]
  },
  {
   "cell_type": "code",
   "execution_count": 2,
   "metadata": {},
   "outputs": [
    {
     "name": "stdout",
     "output_type": "stream",
     "text": [
      "Drawing Circle - Filled with Red color\n",
      "Drawing Square - Filled with Blue color\n"
     ]
    }
   ],
   "source": [
    "# Implementor\n",
    "class Color:\n",
    "    def fill(self):\n",
    "        pass\n",
    "\n",
    "# Concrete Implementors\n",
    "class Red(Color):\n",
    "    def fill(self):\n",
    "        return \"Filled with Red color\"\n",
    "\n",
    "class Blue(Color):\n",
    "    def fill(self):\n",
    "        return \"Filled with Blue color\"\n",
    "\n",
    "# Abstraction\n",
    "class Shape:\n",
    "    def __init__(self, color: Color):\n",
    "        self.color = color\n",
    "\n",
    "    def draw(self):\n",
    "        pass\n",
    "\n",
    "# Refined Abstractions\n",
    "class Circle(Shape):\n",
    "    def draw(self):\n",
    "        return f\"Drawing Circle - {self.color.fill()}\"\n",
    "\n",
    "class Square(Shape):\n",
    "    def draw(self):\n",
    "        return f\"Drawing Square - {self.color.fill()}\"\n",
    "\n",
    "# Client Code\n",
    "if __name__ == \"__main__\":\n",
    "    red_circle = Circle(Red())\n",
    "    blue_square = Square(Blue())\n",
    "\n",
    "    print(red_circle.draw())  # Output: Drawing Circle - Filled with Red color\n",
    "    print(blue_square.draw()) # Output: Drawing Square - Filled with Blue color\n"
   ]
  },
  {
   "cell_type": "markdown",
   "metadata": {},
   "source": [
    "__3. Decorator Design Pattern__\n",
    "\n",
    "__Intent__\n",
    "* Attach additional responsibilities to an object dynamically.\n",
    "* Decorators provide a flexible alternative to subclassing for extending functionality.\n",
    "* Client-specified embellishment of a core object by recursively wrapping it.\n",
    "* Wrapping a gift, putting it in a box, and wrapping the box."
   ]
  },
  {
   "cell_type": "code",
   "execution_count": 6,
   "metadata": {},
   "outputs": [
    {
     "name": "stdout",
     "output_type": "stream",
     "text": [
      "Writing data: Sensitive Data\n",
      "Writing data: ENCRYPTED(Sensitive Data)\n",
      "Writing compressed data: b'\\x1f\\x8b\\x08\\x00D\\x17\\xa3g\\x02\\xff\\x0bN\\xcd+\\xce,\\xc9,KUpI,I\\x04\\x00f\\xa4rJ\\x0e\\x00\\x00\\x00'\n"
     ]
    }
   ],
   "source": [
    "import gzip\n",
    "\n",
    "# Component (Base Writer)\n",
    "class FileWriter:\n",
    "    def write(self, data):\n",
    "        print(f\"Writing data: {data}\")\n",
    "\n",
    "# Decorator\n",
    "class FileWriterDecorator(FileWriter):\n",
    "    def __init__(self, writer):\n",
    "        self._writer = writer\n",
    "\n",
    "    def write(self, data):\n",
    "        self._writer.write(data)\n",
    "\n",
    "# Concrete Decorators\n",
    "class EncryptedFileWriter(FileWriterDecorator):\n",
    "    def write(self, data):\n",
    "        encrypted_data = f\"ENCRYPTED({data})\"\n",
    "        super().write(encrypted_data)\n",
    "\n",
    "class CompressedFileWriter(FileWriterDecorator):\n",
    "    def write(self, data):\n",
    "        compressed_data = gzip.compress(data.encode())\n",
    "        print(f\"Writing compressed data: {compressed_data}\")\n",
    "\n",
    "# Client Code\n",
    "writer = FileWriter()\n",
    "writer.write(\"Sensitive Data\")\n",
    "writer = EncryptedFileWriter(writer)  # Add encryption\n",
    "writer.write(\"Sensitive Data\")\n",
    "writer = CompressedFileWriter(writer)  # Add compression\n",
    "\n",
    "writer.write(\"Sensitive Data\")\n"
   ]
  },
  {
   "cell_type": "markdown",
   "metadata": {},
   "source": [
    "__Example__: This example shows how we can use a decorator function in Python to add logging dynamically."
   ]
  },
  {
   "cell_type": "code",
   "execution_count": 8,
   "metadata": {},
   "outputs": [
    {
     "name": "stdout",
     "output_type": "stream",
     "text": [
      "Function executed!\n",
      "Execution Time: 2.00519 seconds\n"
     ]
    }
   ],
   "source": [
    "import time\n",
    "\n",
    "# Decorator function to add logging\n",
    "def log_execution_time(func):\n",
    "    def wrapper(*args, **kwargs):\n",
    "        start_time = time.time()\n",
    "        result = func(*args, **kwargs)\n",
    "        end_time = time.time()\n",
    "        print(f\"Execution Time: {end_time - start_time:.5f} seconds\")\n",
    "        return result\n",
    "    return wrapper\n",
    "\n",
    "# Example function\n",
    "@log_execution_time\n",
    "def slow_function():\n",
    "    time.sleep(2)\n",
    "    print(\"Function executed!\")\n",
    "\n",
    "# Client Code\n",
    "slow_function()"
   ]
  },
  {
   "cell_type": "markdown",
   "metadata": {},
   "source": [
    "__Web Frameworks (Middleware in Flask & Django)__\n",
    "\n",
    "In web development, middleware functions act as decorators to add functionalities like authentication, logging, and caching to requests.\n",
    "\n",
    "Example in Flask:"
   ]
  },
  {
   "cell_type": "code",
   "execution_count": 9,
   "metadata": {},
   "outputs": [
    {
     "ename": "ModuleNotFoundError",
     "evalue": "No module named 'flask'",
     "output_type": "error",
     "traceback": [
      "\u001b[0;31m---------------------------------------------------------------------------\u001b[0m",
      "\u001b[0;31mModuleNotFoundError\u001b[0m                       Traceback (most recent call last)",
      "Cell \u001b[0;32mIn[9], line 1\u001b[0m\n\u001b[0;32m----> 1\u001b[0m \u001b[38;5;28;01mfrom\u001b[39;00m \u001b[38;5;21;01mflask\u001b[39;00m \u001b[38;5;28;01mimport\u001b[39;00m Flask, request\n\u001b[1;32m      3\u001b[0m app \u001b[38;5;241m=\u001b[39m Flask(\u001b[38;5;18m__name__\u001b[39m)\n\u001b[1;32m      5\u001b[0m \u001b[38;5;66;03m# Custom Middleware as a Decorator\u001b[39;00m\n",
      "\u001b[0;31mModuleNotFoundError\u001b[0m: No module named 'flask'"
     ]
    }
   ],
   "source": [
    "from flask import Flask, request\n",
    "\n",
    "app = Flask(__name__)\n",
    "\n",
    "# Custom Middleware as a Decorator\n",
    "def require_authentication(func):\n",
    "    def wrapper(*args, **kwargs):\n",
    "        if \"Authorization\" not in request.headers:\n",
    "            return \"Unauthorized\", 401\n",
    "        return func(*args, **kwargs)\n",
    "    return wrapper\n",
    "\n",
    "@app.route('/protected')\n",
    "@require_authentication\n",
    "def protected_route():\n",
    "    return \"You are authorized!\"\n",
    "\n",
    "if __name__ == '__main__':\n",
    "    app.run(debug=True)\n"
   ]
  },
  {
   "cell_type": "code",
   "execution_count": null,
   "metadata": {},
   "outputs": [],
   "source": []
  }
 ],
 "metadata": {
  "kernelspec": {
   "display_name": "genai",
   "language": "python",
   "name": "python3"
  },
  "language_info": {
   "codemirror_mode": {
    "name": "ipython",
    "version": 3
   },
   "file_extension": ".py",
   "mimetype": "text/x-python",
   "name": "python",
   "nbconvert_exporter": "python",
   "pygments_lexer": "ipython3",
   "version": "3.12.2"
  }
 },
 "nbformat": 4,
 "nbformat_minor": 2
}
